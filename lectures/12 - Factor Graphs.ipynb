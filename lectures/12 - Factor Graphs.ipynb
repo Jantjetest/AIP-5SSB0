{
 "cells": [
  {
   "cell_type": "markdown",
   "metadata": {},
   "source": [
    "# Factor Graphs"
   ]
  },
  {
   "cell_type": "markdown",
   "metadata": {},
   "source": [
    "\n",
    "###  Goals of this lecture\n",
    "\n",
    "- "
   ]
  },
  {
   "cell_type": "markdown",
   "metadata": {},
   "source": [
    "### Materials\n",
    "\n",
    "- [Video lecture](https://www.youtube.com/watch?v=Fv2YbVg9Frc&t=31) by Frederico Wadehn (ETH Zurich)\n",
    "- [Loeliger, 2004](...), read sections ...\n",
    "- [Loeliger, 2007](...), read sections ..."
   ]
  },
  {
   "cell_type": "markdown",
   "metadata": {},
   "source": [
    "### Why Factor Graphs?\n",
    "\n",
    "- Factor graphs provide an efficient approach to attacking the most important computational problems in probabilistic modelling:\n",
    "\n",
    "  - **Marginalization**\n",
    "  \n",
    "$$\n",
    "\\bar{f}(x_2) = \\int f(x_1,x_2,x_3,x_4,x_5) \\, \\mathrm{d}x_1  \\mathrm{d}x_3 \\mathrm{d}x_4 \\mathrm{d}x_5 \n",
    "$$\n",
    "\n",
    "  - **Maximization** (computing the \"max-marginal\")\n",
    "  \n",
    "$$\n",
    "\\hat{f}(x_2) = \\max_{x_1,x_3,x_4,x_5} f(x_1,x_2,x_3,x_4,x_5)  \n",
    "$$\n",
    "\n",
    "- Since these computations suffer from the \"curse of dimensionality\", we often need to solve a simpler problem in order to get an answer. \n",
    "\n",
    "- Factorization helps here, e.g., if $f(x_1,x_2,x_3,x_4,x_5) = \\prod_{k=1}^5 f_k(x_k)$, then \n",
    "\n",
    "$$\n",
    "\\hat{f}(x_2) = f_2(x_2) \\prod_{k=1,3,4,5} \\max f_k(x_k)\n",
    "$$\n",
    "which usually is _much_ easier to compute.\n",
    "\n"
   ]
  },
  {
   "cell_type": "markdown",
   "metadata": {},
   "source": [
    "\n",
    "\n",
    "\n",
    "###  Construction Rules\n",
    "\n",
    "- Consider a function \n",
    "$$\n",
    "f(x_1,x_2,x_3,x_4,x_5) = f_a(x_1,x_2,x_3) \\cdot f_b(x_3,x_4,x_5) \\cdot f_c(x_4)\n",
    "$$\n",
    "\n",
    "- The factorization of this function can be graphically represented by a **Forney-style Factor Graph** (FFG):\n",
    "\n",
    "\\begin{center}\n",
    "INSERT FFG EXAMPLE GRAPH\n",
    "\\end{center}\n",
    "\n",
    "- An FFG is an **undirected** graph subject to the followong construction rules ([Forney, 2001](http://ieeexplore.ieee.org/xpl/login.jsp?tp=&arnumber=910573&url=http%3A%2F%2Fieeexplore.ieee.org%2Fiel5%2F18%2F19638%2F00910573.pdf%3Farnumber%3D910573), [Loeliger, 2004]())\n",
    "\n",
    "  1. A **node** for every factor;\n",
    "  1. An **edge** (or **half-edge**) for every variable;\n",
    "  1. Node $g$ is connected to edge $x$ **iff** variable $x$ appears in factor $g$.\n",
    "\n",
    "#### Some Terminology\n",
    "\n",
    "- $f$ is called the **global function** and $f_\\bullet$ are the **factors**. \n",
    "- A **configuration** is an assigment of values to all variables.\n",
    "- The **configuation space** is the set of all configutations, i.e., the domain of $f$\n",
    "- A configution $\\omega=(x_1,x_2,x_3,x_4,x_5)$ is said to be **valid** iff $f(\\omega) \\neq 0$\n",
    "  "
   ]
  },
  {
   "cell_type": "markdown",
   "metadata": {},
   "source": [
    "###  Equality Nodes for Branching Points\n",
    "\n",
    "\n",
    "- Note that a variable can appear in maximally two factors in an FFG.\n",
    "\n",
    "- Consider the factorization (where $x_2$ appears in three factors) \n",
    "$$\n",
    " f(x_1,x_2,x_3,x_4) = f_a(x_1,x_2)\\cdot f_b(x_2,x_3) \\cdot f_c(x_2,x_4)\n",
    "$$\n",
    "\n",
    "- For the factor graph representation, we will instead consider the function $g$, defined as\n",
    "$$\n",
    " g(x_1,x_2,x_2^\\prime,x_2^{\\prime\\prime},x_3,x_4) = f_a(x_1,x_2)\\cdot f_b(x_2^\\prime,x_3) \\cdot f_c(x_2^{\\prime\\prime},x_4) \\cdot f_=(x_2,x_2^\\prime,x_2^{\\prime\\prime})\n",
    "$$\n",
    "  where \n",
    "$$\n",
    "f_= \\triangleq \\delta(x-x_2^\\prime) \\delta(x-x_2^{\\prime\\prime})\n",
    "$$\n",
    "  (where $\\delta$ is the Kronecker delta for discrete variables and the Dirac delta for continuously valued variables)\n",
    "  \n",
    "- Note that through introduction of auxiliary variables $X_2^\\prime$ and $X_2^{\\prime\\prime}$ each variable in $g$ appears in maximally two factors. \n",
    "\n",
    "[show graph of g]\n",
    "\n",
    "- Also note that $f$ is a marginal of $g$, since\n",
    "$$\n",
    "f(x_1,x_2,x_3,x_4) = \\int g(x_1,x_2,x_2^\\prime,x_2^{\\prime\\prime},x_3,x_4)\\, \\mathrm{d}x_2^\\prime \\mathrm{d}x_2^{\\prime\\prime}\n",
    "$$\n",
    "\n",
    "- Therefore, any inference problem on $f$ can be executed by a corresponding inference problem on $g$, e.g.,\n",
    "\\begin{align}\n",
    "f(x_1|x_2) &\\triangleq \\frac{\\int f(x_1,x_2,x_3,x_4) \\,\\mathrm{d}x_3 \\mathrm{d}x_4 }{ \\int f(x_1,x_2,x_3,x_4) \\,\\mathrm{d}x_1 \\mathrm{d}x_3 \\mathrm{d}x_4} \\\\\n",
    "  &= \\frac{\\int g(x_1,x_2,x_2^\\prime,x_2^{\\prime\\prime},x_3,x_4) \\,\\mathrm{d}x_2^\\prime \\mathrm{d}x_2^{\\prime\\prime} \\mathrm{d}x_3 \\mathrm{d}x_4 }{ \\int g(x_1,x_2,x_2^\\prime,x_2^{\\prime\\prime},x_3,x_4) \\,\\mathrm{d}x_1 \\mathrm{d}x_2^\\prime \\mathrm{d}x_2^{\\prime\\prime} \\mathrm{d}x_3 \\mathrm{d}x_4} \\\\\n",
    "  &\\triangleq g(x_1|x_2)\n",
    "\\end{align}\n",
    "\n",
    "$\\Rightarrow$ Any factorization of a global function $f$ can be represented by a Forney-style Factor Graph.\n",
    "\n",
    "- More generally, equality nodes are useful to express hard constraints between variables. \n"
   ]
  },
  {
   "cell_type": "markdown",
   "metadata": {},
   "source": [
    "### Probabilistic Models as Factor Graphs\n",
    "\n",
    "- FFGs can be used to express conditional independence (factorization) in probalistic models. \n",
    "- For example, the (previously shown) graph for $f_a(x_1,x_2,x_3) \\cdot f_b(x_3,x_4,x_5) \\cdot f_c(x_4)$ would also represent the model\n",
    "$$\n",
    "p(x_1,x_2,x_3,x_4,x_5) = p(x_1,x_2|x_3) \\cdot p(x_3,x_5|x_4) \\cdot p(x_4)\n",
    "$$\n",
    "where we identify $f_a(x_1,x_2,x_3)=p(x_1,x_2|x_3)$, $f_b(x_3,x_4,x_5)= p(x_3,x_5|x_4)$ and $f_c(x_4)$\n",
    "\n",
    "[show graph]\n",
    "\n",
    "- Factorizations provide opportunities to cut on the amount of needed computations when doing inference. In what follows, we will use FFGs to process these opportunities in an automatic way (i.e., by message passing). "
   ]
  },
  {
   "cell_type": "markdown",
   "metadata": {
    "collapsed": true
   },
   "source": [
    "### Processing Observations in a Factor Graph\n",
    "\n",
    "- Consider a generative model \n",
    "$$p(x,y_1,y_2) = p(x)\\,p(y_1|x)\\,p(y_2|x) .$$ \n",
    "This model expresses the assumption that $Y_1$ and $Y_2$ are independent measurements of $X$.\n",
    "\n",
    "[show the FFG]\n",
    "\n",
    "- Assume that we are interested in the posterior for $X$ after observing $Y_1=y_1$ and $Y_2=y_2$. Using the product rule we get\n",
    "$$\n",
    "p(x|y_1,y_2) = \\frac{p(x,y_1,y_2)}{p(y_1,y_2)} \\propto p(x,y_1,y_2) = p(x)\\,p(y_1|x)\\,p(y_2|x)\n",
    "$$\n",
    "- Crucially, aside from a scaling factor $\\frac{1}{p(y_1,y_2)}$, the factorizations for the posterior $p(x|y_1,y_2)$ and the full model $p(x,y_1,y_2)$ are the same. \n",
    "\n",
    "$\\Rightarrow$ Making observations does not change the factor graph.\n",
    "\n"
   ]
  },
  {
   "cell_type": "markdown",
   "metadata": {},
   "source": [
    "### Inference by Closing Boxes\n",
    "\n",
    "- Assume we wish to compute the marginal\n",
    "$$\n",
    "\\bar{f}(x_3) = \\sum_{x_1,x_2,x_4,x_5,x_6,x_7}f(x_1,x_2,\\ldots,x_7)\n",
    "$$\n",
    "where $f$ is factorized as given by the following FFG\n",
    "\n",
    "<img src=\"message-passing-in-FFG-1.png\">\n",
    "\n",
    "- Due to the factorization, we decompose this sum by the distributive law as\n",
    "\\begin{align}\n",
    "\\bar{f}(x_3) = & \\underbrace{ \\left( \\sum_{x_1,x_2} f_a(x_1)\\,f_b(x_2)\\,f_c(x_1,x_2,x_3)\\right) }_{\\overrightarrow{\\mu}_{X_3}(x_3)}  \\\\\n",
    "  & \\underbrace{ \\cdot\\left( \\sum_{x_4,x_5} f_d(x_4)\\,f_e(x_3,x_4,x_5) \\cdot \\underbrace{ \\left( \\sum_{x_6,x_7} f_f(x_5,x_6,x_7)\\,f_g(x_7)\\right) }_{\\overleftarrow{\\mu}_{X_5}(x_5)} \\right) }_{\\overleftarrow{\\mu}_{X_3}(x_3)}\n",
    "\\end{align}\n",
    "which is computationally (much) lighter than executing the full sum $\\sum_{x_1,\\ldots,x_7}f(x_1,x_2,\\ldots,x_7)$\n",
    "\n",
    "- Note that the \"message\" $\\overleftarrow{\\mu}_{X_5}(x_5)$ is obtained by executing the \"sum-product\"  $\n",
    "\\sum_{ \\stackrel{ \\textrm{enclosed} }{ \\textrm{variables} } } \\prod_{\\stackrel{ \\textrm{enclosed} }{ \\textrm{factors} }}$ in the red box. This operation is called **closing the box**. Closing the box marginalizes the internal variables away and leads to a new factor with outgoing message $\\overleftarrow{\\mu}_{X_5}(x_5)$.   \n",
    "\n",
    "\n",
    "- Observe a shared pattern for computing the \"messages\":\n",
    "\\begin{align}\n",
    "\\overrightarrow{\\mu}_{X_3}(x_3) &= \\sum_{x_1,x_2} \\overrightarrow{\\mu}_{X_1}(x_1) \\overrightarrow{\\mu}_{X_2}(x_2) f_c(x_1,x_2,x_3) \\\\\n",
    "\\overleftarrow{\\mu}_{X_5}(x_5) &= \\sum_{x_6,x_7} \\overrightarrow{\\mu}_{X_7}(x_7) f_f(x_5,x_6,x_7) \\\\\n",
    "\\overleftarrow{\\mu}_{X_3}(x_3) &= \\sum_{x_4,x_5} \\overrightarrow{\\mu}_{X_4}(x_4) \\overleftarrow{\\mu}_{X_3}(x_3) f_e(x_3,x_4,x_5)\n",
    "\\end{align}\n",
    "where we defined $\\overrightarrow{\\mu}_{X_1}(x_1) \\triangleq f_a(x_1)$, $\\overrightarrow{\\mu}_{X_2}(x_2) \\triangleq f_b(x_2)$ etc. \n",
    "\n",
    "- This pattern for computing messages applies generally and is called the **sum-product rule**:\n",
    "$$\n",
    "\\overrightarrow{\\mu}_{Y}(y) = \\sum_{x_1,\\ldots,x_n} \\overrightarrow{\\mu}_{X_1}(x_1)\\cdots \\overrightarrow{\\mu}_{X_n}(x_n) \\,f(y,x_1,\\ldots,x_n) \n",
    "$$\n",
    "\n",
    "[show graph]\n",
    "\n",
    "The **Sum-Product Theorem**\n",
    "- If the factor graph for a function $f$ has no cycles, then \n",
    "$$\n",
    "f_X(x) = \\overrightarrow{\\mu}_{X}(x)\\cdot \\overleftarrow{\\mu}_{X}(x)\n",
    "$$\n",
    "\n",
    "The **Sum_Product Algorithm**\n",
    "\n",
    "  \n",
    "\n"
   ]
  },
  {
   "cell_type": "code",
   "execution_count": null,
   "metadata": {
    "collapsed": true
   },
   "outputs": [],
   "source": []
  }
 ],
 "metadata": {
  "kernelspec": {
   "display_name": "Julia 0.3.10",
   "language": "julia",
   "name": "julia-0.3"
  },
  "language_info": {
   "name": "julia",
   "version": "0.3.10"
  }
 },
 "nbformat": 4,
 "nbformat_minor": 0
}
