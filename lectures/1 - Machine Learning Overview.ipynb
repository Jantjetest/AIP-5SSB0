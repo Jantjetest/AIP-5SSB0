{
 "metadata": {
  "language": "Julia",
  "name": "",
  "signature": "sha256:62b39e4c3f6b1473e8019fef081a96202fb8eeb62f4415dfc01183d5d89890a5"
 },
 "nbformat": 3,
 "nbformat_minor": 0,
 "worksheets": [
  {
   "cells": [
    {
     "cell_type": "markdown",
     "metadata": {},
     "source": [
      "### Preliminaries\n",
      "- Goal\n",
      "    - Top-level overview of machine learning\n",
      "- Materials\n",
      "    - Study Bishop pp. 1-4\n",
      "    - Study this notebook "
     ]
    },
    {
     "cell_type": "markdown",
     "metadata": {
      "slideshow": {
       "slide_type": "-"
      }
     },
     "source": [
      "### What is Machine Learning?\n",
      "- Machine Learning relates to **building models from data**\n",
      "  - Suppose we want to make a model for a complex process about which we have little knowledge (so hand-programming is not possible).\n",
      "  - **Solution**: Get the computer to program itself by showing it examples of the behavior that we want.\n",
      "  - Practically, we choose a library of models, and write a program that picks a model and tunes it to fit the data\n",
      "  - **Criterion**: a _good_ model generalizes well to unseen data from the same process.\n",
      "- This method is known in various scientific communities under different names such as machine learning, statistical inference, system identification, data mining, source coding, data compression, etc."
     ]
    },
    {
     "cell_type": "markdown",
     "metadata": {
      "slideshow": {
       "slide_type": "-"
      }
     },
     "source": [
      "TODO INSERT IMAGE ON HOW NL COPIES SCIENTIFIC LOOP"
     ]
    },
    {
     "cell_type": "markdown",
     "metadata": {},
     "source": [
      "### Machine Learning is Difficult\n",
      "\n",
      "- Modeling (Learning) Problems\n",
      "  - Is there any regularity in the data anyway?\n",
      "  - What is our prior knowledge and how to express it mathematically?\n",
      "  - How to pick the model library?\n",
      "  - How to tune the models to the data?\n",
      "  - How to measure the generalization performance?\n",
      "  \n",
      "- Quality of Observed Data\n",
      "  - Not enough data\n",
      "  - Too much data?\n",
      "  - Available data may be messy (measurement noise, missing data points, outliers)\n",
      "\n"
     ]
    },
    {
     "cell_type": "markdown",
     "metadata": {},
     "source": [
      "### A Machine Learning Taxonomy\n",
      "\n",
      "1. **Supervised Learning**: Given examples of inputs and corresponding\n",
      "desired outputs, predict outputs on future inputs.\n",
      "  - Examples: classification, regression, time series prediction\n",
      "  \n",
      "2. **Unsupervised Learning**: (a.k.a. density estimation). Given only inputs, automatically discover\n",
      "representations, features, structure, etc.\n",
      "  - Examples: clustering, outlier detection, compression\n",
      "  \n",
      "3. **Reinforcement Learning**: Given sequences of inputs, actions from a\n",
      "fixed set, and scalar rewards/punishments, learn to select action\n",
      "sequences in a way that maximizes expected reward, e.g. chess and robotics. (Not covered in this course.)\n"
     ]
    },
    {
     "cell_type": "markdown",
     "metadata": {},
     "source": [
      "### Supervised Learning\n",
      "\n",
      "- Given observations $\\data=\\xyset$, the goal is to estimate the conditional distribution $\\p(\\y|\\xv)$\n",
      "\n",
      "#### Classification \n",
      "\n",
      "- The target variable $\\y$ is a discrete-valued vector representing class labels \n",
      "\n",
      "![](http://research.microsoft.com/en-us/um/people/cmbishop/PRML/prmlfigs-png/Figure4.5b.png)\n",
      "\n",
      "#### Regression \n",
      "\n",
      "- Same problem statement as classification but now the target variable is a real-valued vector.\n",
      "\n",
      "![](http://research.microsoft.com/en-us/um/people/cmbishop/PRML/prmlfigs-png/Figure1.2.png)\n",
      "\n"
     ]
    },
    {
     "cell_type": "markdown",
     "metadata": {},
     "source": [
      "### Unsupervised Learning\n",
      "\n",
      "Given data $\\data=\\xset$, model the (unconditional) probability distribution $\\p(\\xv)$ (aka \\alert{density estimation}).\n",
      "\n",
      "\n",
      "#### Clustering\n",
      "\n",
      "- Group data into clusters such that all data points in a cluster have similar properties.\n",
      "\n",
      "![](http://research.microsoft.com/en-us/um/people/cmbishop/PRML/prmlfigs-png/FigureA.5.png)\n",
      "\n",
      "#### Compression / dimensionality reduction\n",
      "\n",
      "- Output from coder is much smaller in size than original, but if coded signal if further processed by decoder, then the result is very close (or exactly equal) to the original.\n",
      "\n"
     ]
    },
    {
     "cell_type": "markdown",
     "metadata": {},
     "source": [
      "### Some Machine Learning Applications\n",
      "\n",
      "- computer speech recognition, speaker recognition\n",
      "- face recognition, iris identification\n",
      "- printed and handwritten text parsing\n",
      "- financial prediction, outlier detection (credit-card fraud)\n",
      "- user preference modeling (amazon); modeling of human perception\n",
      "- modeling of the web (google)\n",
      "- machine translation\n",
      "- medical expert systems for disease diagnosis (e.g., mammogram)\n",
      "- strategic games (chess, go, backgammon)\n",
      "- **any 'knowledge-poor' but 'data-rich' problem**\n",
      "    "
     ]
    },
    {
     "cell_type": "code",
     "collapsed": false,
     "input": [],
     "language": "python",
     "metadata": {},
     "outputs": []
    }
   ],
   "metadata": {}
  }
 ]
}