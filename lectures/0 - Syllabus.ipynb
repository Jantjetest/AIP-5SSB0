{
 "cells": [
  {
   "cell_type": "markdown",
   "metadata": {},
   "source": [
    "### 5SSB0: Adaptive Information Processing\n",
    "- **Title** Adaptive Information Processing (5SSB0)\n",
    "- **When** 3rd quartile, at alternating frequencies of 4 hours and 2 hours per week.\n",
    "- **Exams** Written exams in January and TBA\n",
    "- **Load** Total workload is 5 ECTS $\\Rightarrow 5\\times 28 = 140$ hours or $84/24=3.5$ study hours per lecture.\n",
    "[](Bonus: Bottle of vino to the person who finds the most legit number of errors in these class notes. e-mail me!)\n",
    "- **Web** [http://bertdv.github.io/teaching/5mb20/index.html]() (or go through [http://bertdv.nl]())."
   ]
  },
  {
   "cell_type": "markdown",
   "metadata": {},
   "source": [
    "### Course comes in Two Parts\n",
    "#### Part I: **Linear Gaussian Models and the EM Algorithm**\n",
    "- $6 \\times 2=12 $ lecture hours, mostly in November\n",
    "- Instructor: Bert de Vries, rm PT-3.15 (on Wednesdays)\n",
    "- email \\texttt{bdevries@gnresound.com}\n",
    "\n",
    "#### Part II: **Model Complexity Control and the MDL Principle**\n",
    "- $6 \\times 2=12$ lecture hours, mostly in December/January\n",
    "- Instructor: Tjalling Tjalkens, rm PT-3.01\n",
    "- email \\texttt{t.j.tjalkens@tue.nl}, tel. $\\times3690$"
   ]
  },
  {
   "cell_type": "markdown",
   "metadata": {},
   "source": [
    "### Why Take This Class?\n",
    "- Suppose you need to develop an algorithm for a complex DSP task. This is what you'll do:\n",
    "  1. Choose a set of candidate algorithms $y=H_k(x;\\theta)$ where $k \\in \\{1,2,\\ldots,K\\}$ and $\\theta \\in \\Theta_k$; (you think that) there's an algorithm $H_{k^*}(x;\\theta^*)$  that performs according to your liking. \n",
    "  2. You collect a set of examples $D=\\{(x_1,y_1),(x_2,y_2),\\ldots,(x_N,y_N)\\}$ that are consistent with the correct algorithm behavior.\n",
    "- Using the methods from this class, you will be able to find $k^*$ (the **model selection** task) and $\\theta^*$ (the **parameter estimation** task)."
   ]
  },
  {
   "cell_type": "markdown",
   "metadata": {},
   "source": [
    "### Materials\n",
    "\n",
    "- Book: \n",
    "![Bishop book cover](http://bertdv.github.io/teaching/5SSB0/i/Bishop-book-cover-image.jpg)\n",
    "\n",
    "-  find at [http://research.microsoft.com/~cmbishop/PRML/index.htm]().\n",
    "- Background reading; covers about the same stuff as (mandatory) slides.\n",
    "- Contains much more material; great for future study and reference."
   ]
  },
  {
   "cell_type": "markdown",
   "metadata": {},
   "source": [
    "### Exam Guide Part-1 (LGM + EM)\n",
    "- Tested material consists of these lecture notes, reading assignments (see website) and exercises.\n",
    "- Slides that are not required for the exam are indicated by the word \\red{(OPTIONAL)} in the header.\n",
    "- Book (Bishop) readings optional unless indicated through exercises.\n",
    "- Advice: download (and make free use of) Sam Roweis' [cheat sheets for Matrix and Gaussian formulas](http://bertdv.github.io/teaching/5SSB0/materials/Roweis-1999-cheatsheets.pdf).  \n",
    "- **Very strong advice**  Make old exams!\n",
    "- Further exam instructions for part-2 from Tjalling."
   ]
  },
  {
   "cell_type": "code",
   "execution_count": null,
   "metadata": {
    "collapsed": false
   },
   "outputs": [],
   "source": []
  }
 ],
 "metadata": {
  "kernelspec": {
   "display_name": "Julia 0.3.6",
   "language": "julia",
   "name": "julia 0.3"
  },
  "language_info": {
   "name": "julia",
   "version": "0.3.6"
  }
 },
 "nbformat": 4,
 "nbformat_minor": 0
}
