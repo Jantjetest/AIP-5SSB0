{
 "cells": [
  {
   "cell_type": "markdown",
   "metadata": {},
   "source": [
    "### 5SSB0: Adaptive Information Processing\n",
    "\n",
    "- **Title** Adaptive Information Processing (5SSB0)\n",
    "\n",
    "- **When** 3rd quartile, at $8$ weeks of $4$ hours per week.\n",
    "\n",
    "- **Load** Total workload is 5 ECTS $\\Rightarrow 5\\times 28 \\math{(hrs/ECTS)} = 140$ hours or $84/24 \\approx 2.6$ study hours per lecture.\n",
    "\n",
    "- **Web** [http://bertdv.github.io/teaching/5mb20/index.html]() (or go through [http://bertdv.nl]())."
   ]
  },
  {
   "cell_type": "markdown",
   "metadata": {},
   "source": [
    "### Course comes in Two Parts\n",
    "#### Part I: **Linear Gaussian Models and the EM Algorithm**\n",
    "- $4 \\times 4=16 $ lecture hours, mostly in February\n",
    "- Instructor: Bert de Vries, rm FLX-7.060 (on Wednesdays)\n",
    "- email <bdevries@gnresound.com>\n",
    "\n",
    "#### Part II: **Model Complexity Control and the MDL Principle**\n",
    "- $4 \\times 4=16$ lecture hours, mostly in March\n",
    "- Instructor: Tjalling Tjalkens, rm FLX-7.101\n",
    "- email <t.j.tjalkens@tue.nl>"
   ]
  },
  {
   "cell_type": "markdown",
   "metadata": {},
   "source": [
    "### Why Take This Class?\n",
    "\n",
    "- Suppose you need to develop an algorithm for a complex DSP task. This is what you'll do:\n",
    "\n",
    "  1. Choose a set of candidate algorithms $y=H_k(x;\\theta)$ where $k \\in \\{1,2,\\ldots,K\\}$ and $\\theta \\in \\Theta_k$; (you think that) there's an algorithm $H_{k^*}(x;\\theta^*)$  that performs according to your liking. \n",
    "  \n",
    "  2. You collect a set of examples $D=\\{(x_1,y_1),(x_2,y_2),\\ldots,(x_N,y_N)\\}$ that are consistent with the correct algorithm behavior.\n",
    "  \n",
    "- Using the methods from this class, you will be able to  do:\n",
    "  1. **model selection**, i.e., find $k^*$\n",
    "  2. **parameter estimation**, i.e., find $\\theta^*$"
   ]
  },
  {
   "cell_type": "markdown",
   "metadata": {},
   "source": [
    "### Materials\n",
    "\n",
    "- Book: <img src=\"./figures/Bishop-book-cover.jpg\" width=200px>\n",
    "\n",
    "\n",
    "-  find at [http://research.microsoft.com/~cmbishop/PRML/index.htm]().\n",
    "- Background reading; covers about the same stuff as (mandatory) slides.\n",
    "- Contains much more material; great for future study and reference."
   ]
  },
  {
   "cell_type": "markdown",
   "metadata": {},
   "source": [
    "### Exam Guide Part-1 (LGM + EM)\n",
    "- Tested material consists of these lecture notes, reading assignments (see website) and exercises.\n",
    "- Slides that are not required for the exam are indicated by the word \\red{(OPTIONAL)} in the header.\n",
    "- Book (Bishop) readings optional unless indicated through exercises.\n",
    "- Advice: download (and make free use of) Sam Roweis' [cheat sheets for Matrix and Gaussian formulas](http://bertdv.github.io/teaching/5SSB0/materials/Roweis-1999-cheatsheets.pdf).  \n",
    "- **Very strong advice**  Make old exams!\n",
    "- Further exam instructions for part-2 from Tjalling."
   ]
  },
  {
   "cell_type": "code",
   "execution_count": 2,
   "metadata": {
    "collapsed": false
   },
   "outputs": [
    {
     "ename": "LoadError",
     "evalue": "syntax: extra token \"IPython\" after end of expression\nwhile loading In[2], in expression starting on line 2",
     "output_type": "error",
     "traceback": [
      "syntax: extra token \"IPython\" after end of expression\nwhile loading In[2], in expression starting on line 2",
      ""
     ]
    }
   ],
   "source": [
    "# Execute this cell to load the notebook's style sheet, then ignore it\n",
    "from IPython.core.display import HTML\n",
    "css_file = '../../styles/aipstyle.css'\n",
    "HTML(open(css_file, \"r\").read())"
   ]
  },
  {
   "cell_type": "code",
   "execution_count": null,
   "metadata": {
    "collapsed": true
   },
   "outputs": [],
   "source": []
  },
  {
   "cell_type": "code",
   "execution_count": null,
   "metadata": {
    "collapsed": true
   },
   "outputs": [],
   "source": []
  }
 ],
 "metadata": {
  "kernelspec": {
   "display_name": "Julia 0.3.10",
   "language": "julia",
   "name": "julia-0.3"
  },
  "language_info": {
   "name": "julia",
   "version": "0.3.11"
  }
 },
 "nbformat": 4,
 "nbformat_minor": 0
}
