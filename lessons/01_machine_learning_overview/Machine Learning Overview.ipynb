{
 "cells": [
  {
   "cell_type": "markdown",
   "metadata": {},
   "source": [
    "### Preliminaries\n",
    "- Goal\n",
    "    - Top-level overview of machine learning\n",
    "- Materials\n",
    "    - Study Bishop pp. 1-4\n",
    "    - Study this notebook "
   ]
  },
  {
   "cell_type": "markdown",
   "metadata": {
    "slideshow": {
     "slide_type": "-"
    }
   },
   "source": [
    "### What is Machine Learning?\n",
    "- Machine Learning relates to **building models from data**\n",
    "  - Suppose we want to make a model for a complex process about which we have little knowledge (so hand-programming is not possible).\n",
    "  - **Solution**: Get the computer to program itself by showing it examples of the behavior that we want.\n",
    "  - Practically, we choose a library of models, and write a program that picks a model and tunes it to fit the data\n",
    "  - **Criterion**: a _good_ model generalizes well to unseen data from the same process.\n",
    "- This method is known in various scientific communities under different names such as machine learning, statistical inference, system identification, data mining, source coding, data compression, etc."
   ]
  },
  {
   "cell_type": "markdown",
   "metadata": {
    "slideshow": {
     "slide_type": "-"
    }
   },
   "source": [
    "<font color=\"red\">TODO INSERT IMAGE ON HOW ML RELATES TO THE SCIENTIFIC LOOP</font>"
   ]
  },
  {
   "cell_type": "markdown",
   "metadata": {},
   "source": [
    "### Machine Learning is Difficult\n",
    "\n",
    "- Modeling (Learning) Problems\n",
    "  - Is there any regularity in the data anyway?\n",
    "  - What is our prior knowledge and how to express it mathematically?\n",
    "  - How to pick the model library?\n",
    "  - How to tune the models to the data?\n",
    "  - How to measure the generalization performance?\n",
    "  \n",
    "- Quality of Observed Data\n",
    "  - Not enough data\n",
    "  - Too much data?\n",
    "  - Available data may be messy (measurement noise, missing data points, outliers)\n",
    "\n"
   ]
  },
  {
   "cell_type": "markdown",
   "metadata": {},
   "source": [
    "### A Machine Learning Taxonomy\n",
    "\n",
    "1. **Supervised Learning**: Given examples of inputs and corresponding\n",
    "desired outputs, predict outputs on future inputs.\n",
    "  - Examples: classification, regression, time series prediction\n",
    "  \n",
    "2. **Unsupervised Learning**: (a.k.a. density estimation). Given only inputs, automatically discover\n",
    "representations, features, structure, etc.\n",
    "  - Examples: clustering, outlier detection, compression\n",
    "  \n",
    "3. **Reinforcement Learning**: Given sequences of inputs, actions from a\n",
    "fixed set, and scalar rewards/punishments, _learn_ to select action\n",
    "sequences in a way that maximizes expected reward, e.g. chess and robotics. (This is more akin to learning how to design good experiments and is not covered in this course.)\n",
    "\n",
    "4. Other stuff, like **Preference Learning**, **learning to rank**, etc. (also not covered in this course) \n"
   ]
  },
  {
   "cell_type": "markdown",
   "metadata": {},
   "source": [
    "### Supervised Learning\n",
    "\n",
    "- Given observations $D=\\{(x_1,y_1),\\dots,(x_N,y_N)\\}$, the goal is to estimate the conditional distribution $p(y|x)$\n",
    "\n",
    "#### Classification \n",
    "\n",
    "- The target variable $y$ is a discrete-valued vector representing class labels \n",
    "\n",
    "<img src=\"./figures/Bishop-Figure4.5b.png\" width=300px>\n",
    "\n",
    "\n",
    "#### Regression \n",
    "\n",
    "- Same problem statement as classification but now the target variable is a real-valued vector.\n",
    "\n",
    "<img src=\"./figures/Bishop-Figure1.2.png\" width=300px>\n",
    "\n",
    "\n"
   ]
  },
  {
   "cell_type": "markdown",
   "metadata": {},
   "source": [
    "### Unsupervised Learning\n",
    "\n",
    "Given data $D=\\{x_1,\\ldots,x_N\\}$, model the (unconditional) probability distribution $p(x)$ (a.k.a. **density estimation**).\n",
    "\n",
    "\n",
    "#### Clustering\n",
    "\n",
    "- Group data into clusters such that all data points in a cluster have similar properties.\n",
    "\n",
    "<img src=\"./figures/Bishop-FigureA.5.png\" width=300px>\n",
    "\n",
    "\n",
    "#### Compression / dimensionality reduction\n",
    "\n",
    "- Output from coder is much smaller in size than original, but if coded signal if further processed by decoder, then the result is very close (or exactly equal) to the original.\n",
    "\n"
   ]
  },
  {
   "cell_type": "markdown",
   "metadata": {},
   "source": [
    "### Some Machine Learning Applications\n",
    "\n",
    "- computer speech recognition, speaker recognition\n",
    "- face recognition, iris identification\n",
    "- printed and handwritten text parsing\n",
    "- financial prediction, outlier detection (credit-card fraud)\n",
    "- user preference modeling (amazon); modeling of human perception\n",
    "- modeling of the web (google)\n",
    "- machine translation\n",
    "- medical expert systems for disease diagnosis (e.g., mammogram)\n",
    "- strategic games (chess, go, backgammon)\n",
    "- **any 'knowledge-poor' but 'data-rich' problem**\n",
    "    "
   ]
  },
  {
   "cell_type": "code",
   "execution_count": null,
   "metadata": {
    "collapsed": false
   },
   "outputs": [],
   "source": []
  }
 ],
 "metadata": {
  "kernelspec": {
   "display_name": "Julia 0.3.10",
   "language": "julia",
   "name": "julia-0.3"
  },
  "language_info": {
   "name": "julia",
   "version": "0.3.11"
  }
 },
 "nbformat": 4,
 "nbformat_minor": 0
}
